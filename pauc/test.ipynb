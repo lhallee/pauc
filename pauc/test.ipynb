{
 "cells": [
  {
   "cell_type": "code",
   "execution_count": 1,
   "id": "a904ddbb-351c-40a2-867b-c60075468782",
   "metadata": {},
   "outputs": [],
   "source": [
    "from roc_auc_ci import roc_auc_ci_score\n"
   ]
  },
  {
   "cell_type": "code",
   "execution_count": null,
   "id": "a086d0c4-64c8-4383-9b80-c156abbdf58d",
   "metadata": {},
   "outputs": [],
   "source": []
  },
  {
   "cell_type": "code",
   "execution_count": 2,
   "id": "a038d810-8584-424c-b4eb-35ab39903977",
   "metadata": {},
   "outputs": [
    {
     "name": "stdout",
     "output_type": "stream",
     "text": [
      "AUC: 0.8333333333333333, 95% CI: (0.3713653918834407, 1.0)\n"
     ]
    }
   ],
   "source": [
    "import pandas as pd\n",
    "import numpy as np\n",
    "import scipy.stats as stats\n",
    "\n",
    "y_true = np.array([0, 0, 1, 1, 1])\n",
    "y_pred = np.array([0.19, 0.4, 0.35, 0.8, 0.8])\n",
    "\n",
    "auc, (lb, ub) = roc_auc_ci_score(y_true, y_pred)\n",
    "print(f'AUC: {auc}, 95% CI: ({lb}, {ub})')\n"
   ]
  },
  {
   "cell_type": "code",
   "execution_count": null,
   "id": "b17f7cf1-b665-47bc-8937-704c7fc3f466",
   "metadata": {},
   "outputs": [],
   "source": []
  },
  {
   "cell_type": "code",
   "execution_count": 3,
   "id": "b3c2a46d-9acc-4784-9392-d2df1ffcb6e7",
   "metadata": {},
   "outputs": [],
   "source": [
    "\n",
    "def test_roc_auc_ci_score_basic():\n",
    "    y_true = np.array([0, 0, 1, 1])\n",
    "    y_pred = np.array([0.1, 0.4, 0.35, 0.8])\n",
    "\n",
    "    auc, (lb, ub) = roc_auc_ci_score(y_true, y_pred)\n",
    "\n",
    "    return  auc, (lb, ub) \n",
    "\n",
    "def test_roc_auc_ci_perfect_classifier():\n",
    "    y_true = np.array([0, 0, 1, 1])\n",
    "    y_pred = np.array([0.1, 0.2, 0.9, 0.95])\n",
    "\n",
    "    auc, (lb, ub) = roc_auc_ci_score(y_true, y_pred)\n",
    "\n",
    "    return  auc, (lb, ub) \n",
    "\n",
    "def test_roc_auc_ci_worst_classifier():\n",
    "    y_true = np.array([0, 0, 1, 1])\n",
    "    y_pred = np.array([0.9, 0.95, 0.1, 0.2])\n",
    "\n",
    "    auc, (lb, ub) = roc_auc_ci_score(y_true, y_pred)\n",
    "\n",
    "    return  auc, (lb, ub) \n"
   ]
  },
  {
   "cell_type": "code",
   "execution_count": 4,
   "id": "e1420856-5c7a-458c-8311-5ac79fdb91fe",
   "metadata": {},
   "outputs": [
    {
     "data": {
      "text/plain": [
       "(0.75, (0.05704808782516102, 1.0))"
      ]
     },
     "execution_count": 4,
     "metadata": {},
     "output_type": "execute_result"
    }
   ],
   "source": [
    "test_roc_auc_ci_score_basic()\n",
    "\n",
    "  "
   ]
  },
  {
   "cell_type": "code",
   "execution_count": 5,
   "id": "bb7abcaa-5533-4eb1-b4a5-3e0a83cafc83",
   "metadata": {},
   "outputs": [
    {
     "data": {
      "text/plain": [
       "(1.0, (1.0, 1.0))"
      ]
     },
     "execution_count": 5,
     "metadata": {},
     "output_type": "execute_result"
    }
   ],
   "source": [
    "  \n",
    "test_roc_auc_ci_perfect_classifier()\n"
   ]
  },
  {
   "cell_type": "code",
   "execution_count": 6,
   "id": "f7fc053a-6102-49dd-aaf0-6454438f4e56",
   "metadata": {},
   "outputs": [
    {
     "data": {
      "text/plain": [
       "(0.0, (0.0, 0.0))"
      ]
     },
     "execution_count": 6,
     "metadata": {},
     "output_type": "execute_result"
    }
   ],
   "source": [
    "\n",
    "test_roc_auc_ci_worst_classifier()"
   ]
  },
  {
   "cell_type": "code",
   "execution_count": null,
   "id": "d0c9b080-25cd-4087-bd65-e56288a17582",
   "metadata": {},
   "outputs": [],
   "source": []
  },
  {
   "cell_type": "code",
   "execution_count": null,
   "id": "39142a2b-f68d-4895-ba64-ae2691e86efd",
   "metadata": {},
   "outputs": [],
   "source": []
  },
  {
   "cell_type": "code",
   "execution_count": null,
   "id": "37c3990d-e188-4d0d-967c-4039310139f2",
   "metadata": {},
   "outputs": [],
   "source": []
  }
 ],
 "metadata": {
  "kernelspec": {
   "display_name": "Python 3 (ipykernel)",
   "language": "python",
   "name": "python3"
  },
  "language_info": {
   "codemirror_mode": {
    "name": "ipython",
    "version": 3
   },
   "file_extension": ".py",
   "mimetype": "text/x-python",
   "name": "python",
   "nbconvert_exporter": "python",
   "pygments_lexer": "ipython3",
   "version": "3.9.18"
  }
 },
 "nbformat": 4,
 "nbformat_minor": 5
}
