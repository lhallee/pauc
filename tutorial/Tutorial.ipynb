{
 "cells": [
  {
   "cell_type": "code",
   "execution_count": 1,
   "id": "485698e6-0dce-41b4-ae2d-2f19c53db8cc",
   "metadata": {},
   "outputs": [
    {
     "name": "stdout",
     "output_type": "stream",
     "text": [
      "AUC: 0.708, 95% CI: (0.378, 1.000)\n"
     ]
    }
   ],
   "source": [
    "from pauc import roc_auc_ci_score\n",
    "import numpy as np\n",
    "\n",
    "y_true = np.array([0, 0, 1, 1, 0, 1, 0, 0, 1, 1, 0, 1])\n",
    "y_pred = np.array([0.1, 0.35, 0.24, 0.8, 0.2, 0.85, 0.13, 0.85, 0.74, 0.58, 0.71, 0.25])\n",
    "\n",
    "auc, (lb, ub) = roc_auc_ci_score(y_true, y_pred)\n",
    "print(f'AUC: {auc:.3f}, 95% CI: ({lb:.3f}, {ub:.3f})')"
   ]
  },
  {
   "cell_type": "code",
   "execution_count": 2,
   "id": "40c12d96-3939-46f9-bf78-8141339ebd87",
   "metadata": {},
   "outputs": [
    {
     "name": "stdout",
     "output_type": "stream",
     "text": [
      "DeLong’s test p-value: 0.045500263896358466\n"
     ]
    }
   ],
   "source": [
    "from pauc.roc_auc_ci import delong_roc_test\n",
    "\n",
    "y_true = np.array([0, 0, 1, 1, 0, 1, 0])\n",
    "pred1 = np.array([0.1, 0.35, 0.4, 0.8, 0.2, 0.75, 0.1])\n",
    "pred2 = np.array([0.5, 0.92, 0.1, 0.1, 0.8, 0.95, 0.9])\n",
    "\n",
    "log_pval = delong_roc_test(y_true, pred1, pred2)\n",
    "p_value = 10 ** log_pval\n",
    "print(f\"DeLong’s test p-value: {p_value}\")"
   ]
  },
  {
   "cell_type": "code",
   "execution_count": null,
   "id": "9832ee1a-b7b1-490e-9db9-783012145d4e",
   "metadata": {},
   "outputs": [],
   "source": []
  }
 ],
 "metadata": {
  "kernelspec": {
   "display_name": "Python 3 (ipykernel)",
   "language": "python",
   "name": "python3"
  },
  "language_info": {
   "codemirror_mode": {
    "name": "ipython",
    "version": 3
   },
   "file_extension": ".py",
   "mimetype": "text/x-python",
   "name": "python",
   "nbconvert_exporter": "python",
   "pygments_lexer": "ipython3",
   "version": "3.13.2"
  }
 },
 "nbformat": 4,
 "nbformat_minor": 5
}
