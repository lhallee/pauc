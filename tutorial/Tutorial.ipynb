{
 "cells": [
  {
   "cell_type": "code",
   "execution_count": 62,
   "id": "485698e6-0dce-41b4-ae2d-2f19c53db8cc",
   "metadata": {},
   "outputs": [
    {
     "name": "stdout",
     "output_type": "stream",
     "text": [
      "AUC: 0.708, 95% CI: (0.378, 1.000)\n"
     ]
    }
   ],
   "source": [
    "from pauc import roc_auc_ci_score\n",
    "import numpy as np\n",
    "\n",
    "y_true = np.array([0, 0, 1, 1, 0, 1, 0, 0, 1, 1, 0, 1])\n",
    "y_pred = np.array([0.1, 0.35, 0.24, 0.8, 0.2, 0.85, 0.13, 0.85, 0.74, 0.58, 0.71, 0.25])\n",
    "\n",
    "auc, (lb, ub) = roc_auc_ci_score(y_true, y_pred)\n",
    "print(f'AUC: {auc:.3f}, 95% CI: ({lb:.3f}, {ub:.3f})')"
   ]
  },
  {
   "cell_type": "code",
   "execution_count": 63,
   "id": "40c12d96-3939-46f9-bf78-8141339ebd87",
   "metadata": {},
   "outputs": [
    {
     "ename": "ValueError",
     "evalue": "too many values to unpack (expected 2)",
     "output_type": "error",
     "traceback": [
      "\u001b[31m---------------------------------------------------------------------------\u001b[39m",
      "\u001b[31mValueError\u001b[39m                                Traceback (most recent call last)",
      "\u001b[36mCell\u001b[39m\u001b[36m \u001b[39m\u001b[32mIn[63]\u001b[39m\u001b[32m, line 7\u001b[39m\n\u001b[32m      4\u001b[39m pred1 = np.array([\u001b[32m0.1\u001b[39m, \u001b[32m0.35\u001b[39m, \u001b[32m0.4\u001b[39m, \u001b[32m0.8\u001b[39m, \u001b[32m0.2\u001b[39m, \u001b[32m0.75\u001b[39m, \u001b[32m0.1\u001b[39m])\n\u001b[32m      5\u001b[39m pred2 = np.array([\u001b[32m0.5\u001b[39m, \u001b[32m0.92\u001b[39m, \u001b[32m0.1\u001b[39m, \u001b[32m0.1\u001b[39m, \u001b[32m0.8\u001b[39m, \u001b[32m0.95\u001b[39m, \u001b[32m0.9\u001b[39m])\n\u001b[32m----> \u001b[39m\u001b[32m7\u001b[39m log_pval = \u001b[43mdelong_roc_test\u001b[49m\u001b[43m(\u001b[49m\u001b[43my_true\u001b[49m\u001b[43m,\u001b[49m\u001b[43m \u001b[49m\u001b[43mpred1\u001b[49m\u001b[43m,\u001b[49m\u001b[43m \u001b[49m\u001b[43mpred2\u001b[49m\u001b[43m)\u001b[49m\n\u001b[32m      8\u001b[39m p_value = \u001b[32m10\u001b[39m ** log_pval\n\u001b[32m      9\u001b[39m \u001b[38;5;28mprint\u001b[39m(\u001b[33mf\u001b[39m\u001b[33m\"\u001b[39m\u001b[33mDeLong’s test p-value: \u001b[39m\u001b[38;5;132;01m{\u001b[39;00mp_value\u001b[38;5;132;01m}\u001b[39;00m\u001b[33m\"\u001b[39m)\n",
      "\u001b[36mFile \u001b[39m\u001b[32m~/miniconda3/envs/test/lib/python3.13/site-packages/pauc/roc_auc_ci.py:156\u001b[39m, in \u001b[36mdelong_roc_test\u001b[39m\u001b[34m(ground_truth, predictions_one, predictions_two)\u001b[39m\n\u001b[32m    146\u001b[39m \u001b[38;5;250m\u001b[39m\u001b[33;03m\"\"\"\u001b[39;00m\n\u001b[32m    147\u001b[39m \u001b[33;03mComputes log(p-value) for hypothesis that two ROC AUCs are different\u001b[39;00m\n\u001b[32m    148\u001b[39m \u001b[33;03mArgs:\u001b[39;00m\n\u001b[32m   (...)\u001b[39m\u001b[32m    153\u001b[39m \u001b[33;03m      np.array of floats of the probability of being class 1\u001b[39;00m\n\u001b[32m    154\u001b[39m \u001b[33;03m\"\"\"\u001b[39;00m\n\u001b[32m    155\u001b[39m sample_weight = \u001b[38;5;28;01mNone\u001b[39;00m\n\u001b[32m--> \u001b[39m\u001b[32m156\u001b[39m order, label_1_count = compute_ground_truth_statistics(ground_truth)\n\u001b[32m    157\u001b[39m predictions_sorted_transposed = np.vstack((predictions_one, predictions_two))[:, order]\n\u001b[32m    158\u001b[39m aucs, delongcov = fastDeLong(predictions_sorted_transposed, label_1_count)\n",
      "\u001b[31mValueError\u001b[39m: too many values to unpack (expected 2)"
     ]
    }
   ],
   "source": [
    "from pauc.roc_auc_ci import delong_roc_test\n",
    "\n",
    "y_true = np.array([0, 0, 1, 1, 0, 1, 0])\n",
    "pred1 = np.array([0.1, 0.35, 0.4, 0.8, 0.2, 0.75, 0.1])\n",
    "pred2 = np.array([0.5, 0.92, 0.1, 0.1, 0.8, 0.95, 0.9])\n",
    "\n",
    "log_pval = delong_roc_test(y_true, pred1, pred2)\n",
    "p_value = 10 ** log_pval\n",
    "print(f\"DeLong’s test p-value: {p_value}\")"
   ]
  },
  {
   "cell_type": "code",
   "execution_count": null,
   "id": "9832ee1a-b7b1-490e-9db9-783012145d4e",
   "metadata": {},
   "outputs": [],
   "source": []
  }
 ],
 "metadata": {
  "kernelspec": {
   "display_name": "Python 3 (ipykernel)",
   "language": "python",
   "name": "python3"
  },
  "language_info": {
   "codemirror_mode": {
    "name": "ipython",
    "version": 3
   },
   "file_extension": ".py",
   "mimetype": "text/x-python",
   "name": "python",
   "nbconvert_exporter": "python",
   "pygments_lexer": "ipython3",
   "version": "3.13.2"
  }
 },
 "nbformat": 4,
 "nbformat_minor": 5
}
